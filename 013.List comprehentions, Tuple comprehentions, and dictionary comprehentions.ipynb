{
 "cells": [
  {
   "cell_type": "markdown",
   "metadata": {},
   "source": [
    "# What you will learn in this lesson\n",
    "\n",
    "1. Defining functions\n",
    "\n",
    "2. Variable scope\n",
    "\n",
    "3. Documentation\n",
    "\n",
    "4. Lamda expressions\n",
    "\n",
    "5. high level functions\n",
    "\n",
    "6. List comprehentions"
   ]
  },
  {
   "cell_type": "markdown",
   "metadata": {},
   "source": [
    "### List Comprehentions\n",
    "\n",
    "List comprehensions allow us to create a list using a for loop in one step.\n",
    "\n",
    "You create a list comprehension with brackets [ ], including an expression to evaluate for each element in an iterable.\n"
   ]
  },
  {
   "cell_type": "code",
   "execution_count": 138,
   "metadata": {},
   "outputs": [
    {
     "name": "stdout",
     "output_type": "stream",
     "text": [
      "[1, 4, 9, 16, 25, 36, 49, 64, 81]\n"
     ]
    }
   ],
   "source": [
    "# List comprehension format: \n",
    "# [expression followed by iterable or iteration]\n",
    "#Eg:\n",
    "\n",
    "squares = [x**2 for x in range(1,10)]\n",
    "print(squares)"
   ]
  },
  {
   "cell_type": "code",
   "execution_count": 139,
   "metadata": {},
   "outputs": [
    {
     "name": "stdout",
     "output_type": "stream",
     "text": [
      "[1, 4, 9, 16, 25, 36, 49, 64, 81]\n"
     ]
    }
   ],
   "source": [
    "squares = []\n",
    "for i in range(1,10):\n",
    "    squares.append(i**2)\n",
    "print(squares)"
   ]
  },
  {
   "cell_type": "code",
   "execution_count": 1,
   "metadata": {},
   "outputs": [
    {
     "name": "stdout",
     "output_type": "stream",
     "text": [
      "[2.0, 4.0, 15.0, 12.5, 4.5]\n"
     ]
    }
   ],
   "source": [
    "ages_list = []\n",
    "ages = [4, 8,30,25,9]\n",
    "for i in ages:\n",
    "    ages_list.append(i/2)\n",
    "print(ages_list)    "
   ]
  },
  {
   "cell_type": "code",
   "execution_count": 2,
   "metadata": {},
   "outputs": [
    {
     "name": "stdout",
     "output_type": "stream",
     "text": [
      "[2.0, 4.0, 15.0, 12.5, 4.5]\n"
     ]
    }
   ],
   "source": [
    "ages_list = [i/2 for i in ages]\n",
    "print(ages_list)\n",
    "\n"
   ]
  },
  {
   "cell_type": "markdown",
   "metadata": {},
   "source": [
    "### Conditionals in List Comprehensions\n",
    "\n",
    "You can also add conditionals to list comprehensions (listcomps).\n",
    "\n",
    "After the iterable, you can use the if keyword to check a condition in each iteration.\n"
   ]
  },
  {
   "cell_type": "code",
   "execution_count": null,
   "metadata": {},
   "outputs": [],
   "source": []
  },
  {
   "cell_type": "code",
   "execution_count": 140,
   "metadata": {},
   "outputs": [
    {
     "name": "stdout",
     "output_type": "stream",
     "text": [
      "[4, 16, 36, 64]\n"
     ]
    }
   ],
   "source": [
    "# Conditional list comprehension without 'else' format: \n",
    "# [exprssion followed by iterable followed by condition]\n",
    "# Eg:\n",
    "squares = [x**2 for x in range(1,10) if x % 2 == 0]\n",
    "print(squares)"
   ]
  },
  {
   "cell_type": "markdown",
   "metadata": {},
   "source": [
    "Conditional List Comprehensions that includes 'else' in the\n",
    "\n",
    "condition have a different format.\n",
    "\n",
    "In cases like this you have to move the conditionals to the beginning of\n",
    "\n",
    "the listcomp, right after the expression.\n"
   ]
  },
  {
   "cell_type": "code",
   "execution_count": 141,
   "metadata": {},
   "outputs": [
    {
     "name": "stdout",
     "output_type": "stream",
     "text": [
      "[4, 4, 6, 16, 8, 36, 10, 64, 12]\n"
     ]
    }
   ],
   "source": [
    "# Conditional list comprehension without 'else' format: \n",
    "# [exprssion followed by condition followed by else condition followed by iterable]\n",
    "# Eg:\n",
    "squares = [x**2 if x % 2 == 0 else x + 3 for x in range(1,10)]\n",
    "print(squares)"
   ]
  },
  {
   "cell_type": "code",
   "execution_count": 4,
   "metadata": {},
   "outputs": [
    {
     "name": "stdout",
     "output_type": "stream",
     "text": [
      "[12.5, 4.5]\n"
     ]
    }
   ],
   "source": [
    "ages_list = [i/2 for i in ages if i % 2 != 0]\n",
    "print(ages_list)"
   ]
  },
  {
   "cell_type": "code",
   "execution_count": 7,
   "metadata": {},
   "outputs": [
    {
     "name": "stdout",
     "output_type": "stream",
     "text": [
      "[12.5, 4.5]\n"
     ]
    }
   ],
   "source": [
    "age_lists = []\n",
    "ages = [4, 8,30,25,9]\n",
    "for i in ages:\n",
    "    if i % 2 !=0:\n",
    "        age_lists.append(i/2)\n",
    "print(age_lists)\n"
   ]
  },
  {
   "cell_type": "code",
   "execution_count": null,
   "metadata": {},
   "outputs": [],
   "source": []
  },
  {
   "cell_type": "markdown",
   "metadata": {},
   "source": [
    "## Exercise"
   ]
  },
  {
   "cell_type": "markdown",
   "metadata": {},
   "source": [
    "### Question 1\n",
    "\n",
    "Use a list comprehension to create a new  list called first_names containing just the first names in the list names in lowercase.\n"
   ]
  },
  {
   "cell_type": "code",
   "execution_count": null,
   "metadata": {},
   "outputs": [],
   "source": [
    "names = ['Ama Frimpong','Agyemang Duah','Kwesi Amstrong','Patrick Mensah', 'Emmanuel Doe', 'Nelson Tettey']"
   ]
  },
  {
   "cell_type": "code",
   "execution_count": null,
   "metadata": {},
   "outputs": [],
   "source": [
    "names[0].split()[0].lower()"
   ]
  },
  {
   "cell_type": "code",
   "execution_count": null,
   "metadata": {},
   "outputs": [],
   "source": []
  },
  {
   "cell_type": "code",
   "execution_count": null,
   "metadata": {},
   "outputs": [],
   "source": [
    "#Solution\n",
    "\n",
    "first_names = [name.split()[0].lower() for name in names]\n",
    "print(first_names)\n"
   ]
  },
  {
   "cell_type": "code",
   "execution_count": null,
   "metadata": {},
   "outputs": [],
   "source": [
    "names = ['Ama Frimpong','Agyemang Duah','Kwesi Amstrong','Patrick Mensah', 'Emmanuel Doe', 'Nelson Tettey']"
   ]
  },
  {
   "cell_type": "code",
   "execution_count": null,
   "metadata": {},
   "outputs": [],
   "source": [
    "names"
   ]
  },
  {
   "cell_type": "code",
   "execution_count": null,
   "metadata": {},
   "outputs": [],
   "source": [
    "for name in names:\n",
    "    print(name.split()[0].lower())"
   ]
  },
  {
   "cell_type": "code",
   "execution_count": null,
   "metadata": {},
   "outputs": [],
   "source": []
  },
  {
   "cell_type": "markdown",
   "metadata": {},
   "source": [
    "### Question 2\n",
    "Use a list comprehension to create a list called multiples_3, containing the first 20 multiples of 3."
   ]
  },
  {
   "cell_type": "code",
   "execution_count": null,
   "metadata": {},
   "outputs": [],
   "source": [
    "# solution\n",
    "multiples_3 =[i*3 for i in range(1,21)]\n",
    "print(multiples_3)"
   ]
  },
  {
   "cell_type": "markdown",
   "metadata": {},
   "source": [
    "### Question 3\n",
    "\n",
    "Use a list comprehension to create a list of names passed that only include those that scored at least 65.\n"
   ]
  },
  {
   "cell_type": "code",
   "execution_count": null,
   "metadata": {},
   "outputs": [],
   "source": [
    "scores = {\n",
    "             \"Rick Ampofo\": 70,\n",
    "             \"Morty Smith\": 35,\n",
    "             \"Samuel Sarpong\": 82,\n",
    "             \"Jerry Rawlings\": 23,\n",
    "             \"Bethilda Great\": 98\n",
    "          }"
   ]
  },
  {
   "cell_type": "code",
   "execution_count": null,
   "metadata": {},
   "outputs": [],
   "source": []
  },
  {
   "cell_type": "code",
   "execution_count": null,
   "metadata": {},
   "outputs": [],
   "source": [
    "passed =[name for name,score in scores.items() if score >= 65] \n",
    "print(passed)"
   ]
  },
  {
   "cell_type": "code",
   "execution_count": null,
   "metadata": {},
   "outputs": [],
   "source": [
    "# solution\n",
    "passed =[(name,score) for name,score in scores.items() if score >= 65] \n",
    "print(passed)"
   ]
  },
  {
   "cell_type": "code",
   "execution_count": null,
   "metadata": {},
   "outputs": [],
   "source": [
    "z = scores.items()"
   ]
  },
  {
   "cell_type": "code",
   "execution_count": null,
   "metadata": {},
   "outputs": [],
   "source": []
  }
 ],
 "metadata": {
  "kernelspec": {
   "display_name": "Python 3 (ipykernel)",
   "language": "python",
   "name": "python3"
  },
  "language_info": {
   "codemirror_mode": {
    "name": "ipython",
    "version": 3
   },
   "file_extension": ".py",
   "mimetype": "text/x-python",
   "name": "python",
   "nbconvert_exporter": "python",
   "pygments_lexer": "ipython3",
   "version": "3.11.5"
  }
 },
 "nbformat": 4,
 "nbformat_minor": 4
}
