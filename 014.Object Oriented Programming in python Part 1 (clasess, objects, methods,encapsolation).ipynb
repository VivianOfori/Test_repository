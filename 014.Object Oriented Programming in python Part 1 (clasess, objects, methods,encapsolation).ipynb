{
 "cells": [
  {
   "cell_type": "markdown",
   "metadata": {},
   "source": [
    "# Object Oriented Programming(OOP)\n",
    "\n",
    "Object-oriented programming (OOP) is a computer programming model that is based on the concept of classes and objects, rather than functions and logic. \n",
    "\n",
    "Whilst procedural programming is about writing procedures or functions that perform operations on the data,object-oriented programming is about creating **classes and objects that contain both data and functions**.\n",
    "\n",
    "A class is an abstract blueprint used to create more specific, concrete objects. \n",
    "A class defines what attributes an instance of this type will have, like color, but not the value of those attributes for a specific object.\n",
    "\n",
    "Classes can also contain functions, called methods available only to objects of that type.\n",
    "\n",
    "Methods are defined within the class and perform some action by a specific object or class.\n",
    "An object can have attributes and behavior.\n",
    " \n",
    "\n",
    "\n",
    "Advantages of OOP\n",
    "1. OOP is faster and easier to execute\n",
    "2. OOP provides a clear structure for the programs\n",
    "3. OOP helps to keep code DRY \"Don't Repeat Yourself\", and makes the code easier to maintain, modify and debug\n",
    "4. OOP makes it possible to create full reusable applications with less code and shorter development time\n",
    "\n",
    "Take note of the following:\n",
    "1. class\n",
    "2. object\n",
    "3. instance\n",
    "4. methods\n",
    "5. inheritance\n",
    "\n",
    "\n",
    "### Consider the this example\n",
    "                                  \n",
    "                                  \n",
    "                                  \n",
    "                                Human    -------> class\n",
    "                                  \n",
    "                                Racheal  -------> object\n",
    "                                  \n",
    "                    Height,color,weight, hands,address ------> Attributes\n",
    "                                  \n",
    "                 write,run,type fast,code,read,analyze   --------> methods\n",
    "   \n",
    "From the example above, it can be inferred that,\n",
    "\n",
    "a class is a blue print\n",
    "\n",
    "an object is a data field that manifest the blue print\n",
    "\n",
    "an attribute is a property of an object\n",
    "\n",
    "a method is any action that is done by an object or a class.\n",
    "\n",
    "Methods are functions defined within a class.\n",
    "\n",
    "\n",
    "\n"
   ]
  },
  {
   "cell_type": "code",
   "execution_count": null,
   "metadata": {},
   "outputs": [],
   "source": []
  },
  {
   "cell_type": "markdown",
   "metadata": {},
   "source": [
    "# Demonstration"
   ]
  },
  {
   "cell_type": "markdown",
   "metadata": {},
   "source": [
    "## class Anatomy"
   ]
  },
  {
   "cell_type": "markdown",
   "metadata": {},
   "source": [
    "#### Creating a class\n",
    "\n",
    "A class in python is created with the keyword class.\n",
    "\n",
    "The body of a class contain attributes and methods.\n",
    "\n",
    "A class have a head and body.\n",
    "\n",
    "Unlike functions and methods, a class name begins with capital letter. \n",
    "\n",
    "Let's dive deep into classes through the demonstrations below."
   ]
  },
  {
   "cell_type": "code",
   "execution_count": 2,
   "metadata": {},
   "outputs": [],
   "source": [
    "class Student: #-------> head\n",
    "                                           #This an empty class\n",
    "    pass #------> body\n",
    "    "
   ]
  },
  {
   "cell_type": "markdown",
   "metadata": {},
   "source": [
    "####  Objects  of a class"
   ]
  },
  {
   "cell_type": "code",
   "execution_count": 3,
   "metadata": {},
   "outputs": [],
   "source": [
    "\n",
    "s1 = Student()\n",
    "\n",
    "s2 = Student()  # s1 and s2 are objects of the empty class Student"
   ]
  },
  {
   "cell_type": "code",
   "execution_count": 4,
   "metadata": {},
   "outputs": [
    {
     "data": {
      "text/plain": [
       "__main__.Student"
      ]
     },
     "execution_count": 4,
     "metadata": {},
     "output_type": "execute_result"
    }
   ],
   "source": [
    "type(s1)"
   ]
  },
  {
   "cell_type": "markdown",
   "metadata": {},
   "source": [
    "#### Methods and Attributes"
   ]
  },
  {
   "cell_type": "code",
   "execution_count": null,
   "metadata": {},
   "outputs": [],
   "source": [
    "def identity(self,name):\n",
    "    print(\"I am\"+\" \"+ name) # This a method\n",
    "                            # A method is similar to function except the special self argument which we later talk about."
   ]
  },
  {
   "cell_type": "code",
   "execution_count": null,
   "metadata": {},
   "outputs": [],
   "source": [
    "#identity('John')"
   ]
  },
  {
   "cell_type": "code",
   "execution_count": 5,
   "metadata": {},
   "outputs": [],
   "source": [
    "# A class with a method\n",
    "class Student:\n",
    "    \n",
    "    def identity(self,name):\n",
    "        print(\"I am\"+\" \"+ name, \",\"+\" a Data Science student at Blossom Academy\")\n",
    "    "
   ]
  },
  {
   "cell_type": "code",
   "execution_count": 6,
   "metadata": {},
   "outputs": [],
   "source": [
    "Dominic = Student()\n",
    "\n",
    "Jessica = Student()\n",
    "\n",
    "s1 = Student()\n",
    "s2 = Student()"
   ]
  },
  {
   "cell_type": "code",
   "execution_count": 7,
   "metadata": {},
   "outputs": [
    {
     "name": "stdout",
     "output_type": "stream",
     "text": [
      "I am Dominic , a Data Science student at Blossom Academy\n"
     ]
    }
   ],
   "source": [
    "Dominic.identity(\"Dominic\")"
   ]
  },
  {
   "cell_type": "code",
   "execution_count": 25,
   "metadata": {},
   "outputs": [
    {
     "name": "stdout",
     "output_type": "stream",
     "text": [
      "I am Mandy , a Data Science student at Blossom Academy\n"
     ]
    }
   ],
   "source": [
    "s1.identity(\"Mandy\")"
   ]
  },
  {
   "cell_type": "code",
   "execution_count": 8,
   "metadata": {},
   "outputs": [],
   "source": [
    "x = 'I am a good man'"
   ]
  },
  {
   "cell_type": "code",
   "execution_count": 12,
   "metadata": {},
   "outputs": [
    {
     "data": {
      "text/plain": [
       "['I', 'am', 'a', 'good', 'man']"
      ]
     },
     "execution_count": 12,
     "metadata": {},
     "output_type": "execute_result"
    }
   ],
   "source": [
    "x.split(sep=' ')"
   ]
  },
  {
   "cell_type": "code",
   "execution_count": 13,
   "metadata": {},
   "outputs": [
    {
     "name": "stdout",
     "output_type": "stream",
     "text": [
      "I am Jessica , a Data Science student at Blossom Academy\n"
     ]
    }
   ],
   "source": [
    " Jessica.identity('Jessica')"
   ]
  },
  {
   "cell_type": "code",
   "execution_count": 14,
   "metadata": {},
   "outputs": [
    {
     "name": "stdout",
     "output_type": "stream",
     "text": [
      "I am Ola , a Data Science student at Blossom Academy\n"
     ]
    }
   ],
   "source": [
    "s2.identity('Ola')"
   ]
  },
  {
   "cell_type": "code",
   "execution_count": null,
   "metadata": {},
   "outputs": [],
   "source": []
  },
  {
   "cell_type": "code",
   "execution_count": 15,
   "metadata": {},
   "outputs": [],
   "source": [
    "class Pet:\n",
    "    def num_leg(self,number_legs):\n",
    "        print('It has'+' '+ number_legs+' '+'legs')"
   ]
  },
  {
   "cell_type": "code",
   "execution_count": 16,
   "metadata": {},
   "outputs": [],
   "source": [
    "pusy = Pet()\n",
    "\n",
    "snow_bird = Pet()"
   ]
  },
  {
   "cell_type": "code",
   "execution_count": 17,
   "metadata": {},
   "outputs": [
    {
     "name": "stdout",
     "output_type": "stream",
     "text": [
      "It has 4 legs\n"
     ]
    }
   ],
   "source": [
    "pusy.num_leg('4')"
   ]
  },
  {
   "cell_type": "code",
   "execution_count": null,
   "metadata": {},
   "outputs": [],
   "source": []
  },
  {
   "cell_type": "code",
   "execution_count": null,
   "metadata": {},
   "outputs": [],
   "source": []
  },
  {
   "cell_type": "markdown",
   "metadata": {},
   "source": [
    "### Note\n",
    "Calling a method from an object is the same as passing the object as an argument to a method from the class.\n",
    "\n",
    "Check the examples below:"
   ]
  },
  {
   "cell_type": "code",
   "execution_count": 18,
   "metadata": {},
   "outputs": [
    {
     "name": "stdout",
     "output_type": "stream",
     "text": [
      "I am Jesicca , a Data Science student at Blossom Academy\n"
     ]
    }
   ],
   "source": [
    "Student.identity(Jessica,\"Jesicca\") # This is the same as Jessica.identity()"
   ]
  },
  {
   "cell_type": "code",
   "execution_count": 19,
   "metadata": {},
   "outputs": [
    {
     "name": "stdout",
     "output_type": "stream",
     "text": [
      "I am Ola , a Data Science student at Blossom Academy\n"
     ]
    }
   ],
   "source": [
    "Student.identity(s2,\"Ola\") # This is the same as s2.identity()"
   ]
  },
  {
   "cell_type": "markdown",
   "metadata": {},
   "source": [
    "# Encapsulation\n",
    "By the principle of Object Oriented Programming(OOP), the data and the methods that operate on the data must be together.\n",
    "\n",
    "This is achieved through encapsulation.\n",
    "\n",
    "**Encapsulation** in this regard, is the act of binding data with the methods that operate on the data.\n",
    "\n",
    "\n",
    "Check the examples below:"
   ]
  },
  {
   "cell_type": "markdown",
   "metadata": {},
   "source": [
    "#### Defining an attribute throuhg a method either than the \\_\\_init\\_\\_ method"
   ]
  },
  {
   "cell_type": "code",
   "execution_count": 20,
   "metadata": {},
   "outputs": [],
   "source": [
    "\n",
    "class Student:\n",
    "    def give_id(self,ID=100):\n",
    "        self.ID = ID\n",
    "        \n",
    "    def give_name(self,name):\n",
    "        self.name = name\n",
    "        \n",
    "        \n",
    "    def identity(self,name):\n",
    "        print(\"I am\"+\" \"+ name, \",\"+\" a Data Science student at Blossom Academy\")\n",
    "\n",
    "# Note that the attribute and the method are bundles under one class."
   ]
  },
  {
   "cell_type": "code",
   "execution_count": 21,
   "metadata": {},
   "outputs": [],
   "source": [
    "Dominic = Student()\n"
   ]
  },
  {
   "cell_type": "code",
   "execution_count": 27,
   "metadata": {},
   "outputs": [],
   "source": [
    "Dominic.give_id()"
   ]
  },
  {
   "cell_type": "code",
   "execution_count": 28,
   "metadata": {},
   "outputs": [
    {
     "data": {
      "text/plain": [
       "100"
      ]
     },
     "execution_count": 28,
     "metadata": {},
     "output_type": "execute_result"
    }
   ],
   "source": [
    "Dominic.ID"
   ]
  },
  {
   "cell_type": "code",
   "execution_count": 23,
   "metadata": {},
   "outputs": [],
   "source": [
    "Dominic.give_id(1091442)"
   ]
  },
  {
   "cell_type": "code",
   "execution_count": 24,
   "metadata": {},
   "outputs": [
    {
     "data": {
      "text/plain": [
       "1091442"
      ]
     },
     "execution_count": 24,
     "metadata": {},
     "output_type": "execute_result"
    }
   ],
   "source": [
    "Dominic.ID"
   ]
  },
  {
   "cell_type": "code",
   "execution_count": null,
   "metadata": {},
   "outputs": [],
   "source": [
    "Dominic.name"
   ]
  },
  {
   "cell_type": "code",
   "execution_count": null,
   "metadata": {},
   "outputs": [],
   "source": [
    "Dominic.give_name('Dominic')"
   ]
  },
  {
   "cell_type": "code",
   "execution_count": null,
   "metadata": {},
   "outputs": [],
   "source": [
    "Dominic.name"
   ]
  },
  {
   "cell_type": "markdown",
   "metadata": {},
   "source": [
    "###  \\_\\_init\\_\\_ method and self argument\n",
    "\n",
    "The \\_\\_init\\_\\_ method serves as a constructor.\n",
    "Python automatically call the \\_\\_init\\_\\_ method when ever an object is created hence creates attributes for that object. \n",
    "\n",
    "The self argument is a special argument which serves as a holder of the other arguments.\n",
    "\n",
    "It allows you to access other arguments and call methods from within a class definition.\n",
    "\n",
    "It also stand -in for a particular object used in the class definition\n",
    "\n",
    "Every method should contain a self argument.\n",
    "\n",
    "Any other word can be used inplace of the self but it a convention to use the word self.\n"
   ]
  },
  {
   "cell_type": "code",
   "execution_count": null,
   "metadata": {},
   "outputs": [],
   "source": [
    "# Defining attributes through init method.\n",
    "\n",
    "class Student:\n",
    "    def __init__(self,name,course,year):\n",
    "        self.name = name      # name, course and year are attributes\n",
    "        self.course = course\n",
    "        self.year = year\n",
    "        \n",
    "    def identity(self): # This a method\n",
    "        print(\"I am\"+\" \"+ self.name, \",\"+\" a \"+ self.course +\" \"+\"student at Blossom Academy\")"
   ]
  },
  {
   "cell_type": "markdown",
   "metadata": {},
   "source": [
    "### Instantiating objects of a class\n"
   ]
  },
  {
   "cell_type": "code",
   "execution_count": null,
   "metadata": {},
   "outputs": [],
   "source": [
    "s1 = Student(\"Kelden\",\"Data Science\",2021)\n",
    "s2 = Student(\"Jessie\",\"Python programming\",2020)\n",
    "s3 = Student(\"Aurelia\",\"Web design\",2021)\n",
    "s4= Student(\"Dominic\",\"Business Intelligence with Tableau\",2019)\n",
    "s5 = Student(\"Jessica\",\"Cyber Security\",2021)"
   ]
  },
  {
   "cell_type": "code",
   "execution_count": null,
   "metadata": {},
   "outputs": [],
   "source": [
    "s1.name"
   ]
  },
  {
   "cell_type": "code",
   "execution_count": null,
   "metadata": {},
   "outputs": [],
   "source": [
    "s1.name,s1.course"
   ]
  },
  {
   "cell_type": "code",
   "execution_count": null,
   "metadata": {},
   "outputs": [],
   "source": [
    "[s1.name,s1.course]"
   ]
  },
  {
   "cell_type": "code",
   "execution_count": null,
   "metadata": {},
   "outputs": [],
   "source": [
    "s4.name,s4.course, s4.year"
   ]
  },
  {
   "cell_type": "code",
   "execution_count": null,
   "metadata": {},
   "outputs": [],
   "source": [
    "s4.identity()"
   ]
  },
  {
   "cell_type": "code",
   "execution_count": null,
   "metadata": {},
   "outputs": [],
   "source": [
    "Student.identity(s4)"
   ]
  },
  {
   "cell_type": "code",
   "execution_count": null,
   "metadata": {},
   "outputs": [],
   "source": []
  },
  {
   "cell_type": "code",
   "execution_count": null,
   "metadata": {},
   "outputs": [],
   "source": [
    "#example 1.\n",
    "#creating a class\n",
    "\n",
    "class Shirt: #Shirt ----> Class name. It always starts with a capital letter\n",
    "    def __init__(self,category,colour,size,price): # the __init__ serves as a constructor\n",
    "                                                   # the self argument is a special argument\n",
    "                                                   # which serves as a holder of the other arguments,\n",
    "                                                   # the self argument allows the other arguments to be \n",
    "                                                    #referenced in the class\n",
    "                                                   # It also stand- in for a particular object used in \n",
    "                                                    #the class definition\n",
    "                                                   # category,colour,size,price are attributes  \n",
    "        \n",
    "        self.category = category\n",
    "        self.colour = colour\n",
    "        self.size = size\n",
    "        self.price = price\n",
    "        \n",
    "        #methods\n",
    "    def change_price(self,new_price):                #change_price, change_price, dC,sales are methods\n",
    "        self.price = new_price\n",
    "        \n",
    "    def discount_price(self,discount):\n",
    "        return self.price*(1-discount)\n",
    "    \n",
    "    def sales(self,quantity):\n",
    "        return self.price*quantity"
   ]
  },
  {
   "cell_type": "markdown",
   "metadata": {},
   "source": [
    "### Creating or instantiating an object "
   ]
  },
  {
   "cell_type": "code",
   "execution_count": null,
   "metadata": {},
   "outputs": [],
   "source": [
    "shirt_1 = Shirt('T-shirt','blue',28,10)\n",
    "\n",
    "shirt_2 = Shirt('Long-sleeve','white',30,100)\n",
    "\n",
    "shirt_3 = Shirt('Short-sleeve','multi-coloured',25,30)"
   ]
  },
  {
   "cell_type": "code",
   "execution_count": null,
   "metadata": {},
   "outputs": [],
   "source": [
    "shirt_1.colour"
   ]
  },
  {
   "cell_type": "code",
   "execution_count": null,
   "metadata": {},
   "outputs": [],
   "source": [
    "shirt_1.price"
   ]
  },
  {
   "cell_type": "code",
   "execution_count": null,
   "metadata": {},
   "outputs": [],
   "source": [
    "shirt_1.change_price(15)"
   ]
  },
  {
   "cell_type": "code",
   "execution_count": null,
   "metadata": {},
   "outputs": [],
   "source": [
    "shirt_1.price"
   ]
  },
  {
   "cell_type": "code",
   "execution_count": null,
   "metadata": {},
   "outputs": [],
   "source": [
    "shirt_1.discount_price(0.05)"
   ]
  },
  {
   "cell_type": "code",
   "execution_count": null,
   "metadata": {},
   "outputs": [],
   "source": [
    "shirt_2.category\n"
   ]
  },
  {
   "cell_type": "code",
   "execution_count": null,
   "metadata": {},
   "outputs": [],
   "source": [
    "shirt_1.price"
   ]
  },
  {
   "cell_type": "code",
   "execution_count": null,
   "metadata": {},
   "outputs": [],
   "source": [
    "shirt_1.change_price(30)"
   ]
  },
  {
   "cell_type": "code",
   "execution_count": null,
   "metadata": {},
   "outputs": [],
   "source": [
    "shirt_1.price"
   ]
  },
  {
   "cell_type": "code",
   "execution_count": null,
   "metadata": {},
   "outputs": [],
   "source": []
  },
  {
   "cell_type": "code",
   "execution_count": null,
   "metadata": {},
   "outputs": [],
   "source": [
    "shirt_1.sales(135)"
   ]
  },
  {
   "cell_type": "code",
   "execution_count": null,
   "metadata": {},
   "outputs": [],
   "source": [
    "shirt_1.discount_price(0.05)"
   ]
  },
  {
   "cell_type": "code",
   "execution_count": null,
   "metadata": {},
   "outputs": [],
   "source": []
  },
  {
   "cell_type": "code",
   "execution_count": null,
   "metadata": {},
   "outputs": [],
   "source": [
    "shirt_3.price"
   ]
  },
  {
   "cell_type": "code",
   "execution_count": null,
   "metadata": {},
   "outputs": [],
   "source": [
    "shirt_3.change_price(50)"
   ]
  },
  {
   "cell_type": "code",
   "execution_count": null,
   "metadata": {},
   "outputs": [],
   "source": [
    "shirt_3.price"
   ]
  },
  {
   "cell_type": "code",
   "execution_count": null,
   "metadata": {},
   "outputs": [],
   "source": [
    "shirt_3.sales(30)"
   ]
  },
  {
   "cell_type": "code",
   "execution_count": null,
   "metadata": {},
   "outputs": [],
   "source": [
    "Shirt.sales(shirt_3,30)"
   ]
  },
  {
   "cell_type": "code",
   "execution_count": null,
   "metadata": {},
   "outputs": [],
   "source": [
    "Shirt.sales(shirt_1,200)"
   ]
  },
  {
   "cell_type": "code",
   "execution_count": null,
   "metadata": {},
   "outputs": [],
   "source": [
    "shirt_1.category"
   ]
  },
  {
   "cell_type": "code",
   "execution_count": null,
   "metadata": {
    "scrolled": true
   },
   "outputs": [],
   "source": [
    "shirt_2.sales(12)"
   ]
  },
  {
   "cell_type": "code",
   "execution_count": null,
   "metadata": {},
   "outputs": [],
   "source": [
    "shirt_3.sales(10)"
   ]
  },
  {
   "cell_type": "code",
   "execution_count": null,
   "metadata": {},
   "outputs": [],
   "source": [
    "# you can call a method through the main class.\n",
    "Shirt.sales(shirt_3,10) \n"
   ]
  },
  {
   "cell_type": "code",
   "execution_count": null,
   "metadata": {},
   "outputs": [],
   "source": [
    "# the computational methods below give the same results.\n",
    "print(shirt_2.discount_price(0.03))\n",
    "\n",
    "print(Shirt.discount_price(shirt_2,0.03))"
   ]
  },
  {
   "cell_type": "code",
   "execution_count": null,
   "metadata": {},
   "outputs": [],
   "source": [
    "shirt_3.colour"
   ]
  },
  {
   "cell_type": "code",
   "execution_count": null,
   "metadata": {},
   "outputs": [],
   "source": [
    " # Example 2\n",
    "    \n",
    "class Employee: # Employee -----> Class name\n",
    " \n",
    "    \n",
    "        def __init__(self,first,last,pay):\n",
    "            self.first = first\n",
    "            self.last = last\n",
    "            self.pay = pay\n",
    "            self.email = first.lower()+last.lower()+'@company.com'\n",
    "    \n",
    "            # method\n",
    "        def fullname(self):\n",
    "            return '{} {}'.format(self.first,self.last)"
   ]
  },
  {
   "cell_type": "code",
   "execution_count": null,
   "metadata": {},
   "outputs": [],
   "source": [
    "# Insatantiating objects\n",
    "\n",
    "\n",
    "emp_1 = Employee('Joe','Louis',9500)\n",
    "emp_2 = Employee('John' ,'Bruce',6500)"
   ]
  },
  {
   "cell_type": "code",
   "execution_count": null,
   "metadata": {},
   "outputs": [],
   "source": [
    "# calling a method of an object from the object\n",
    "\n",
    "emp_1.fullname()"
   ]
  },
  {
   "cell_type": "code",
   "execution_count": null,
   "metadata": {},
   "outputs": [],
   "source": [
    "emp_2.fullname()"
   ]
  },
  {
   "cell_type": "code",
   "execution_count": null,
   "metadata": {},
   "outputs": [],
   "source": [
    "# calling a method of an object from the class\n",
    "Employee.fullname(emp_1)"
   ]
  },
  {
   "cell_type": "code",
   "execution_count": null,
   "metadata": {},
   "outputs": [],
   "source": [
    "emp_1.email"
   ]
  },
  {
   "cell_type": "code",
   "execution_count": null,
   "metadata": {},
   "outputs": [],
   "source": [
    "Employee.fullname(emp_2)"
   ]
  },
  {
   "cell_type": "code",
   "execution_count": null,
   "metadata": {},
   "outputs": [],
   "source": [
    "emp_2.email"
   ]
  },
  {
   "cell_type": "code",
   "execution_count": null,
   "metadata": {},
   "outputs": [],
   "source": [
    "print(emp_2.pay)\n",
    "print(emp_1.pay)"
   ]
  },
  {
   "cell_type": "markdown",
   "metadata": {},
   "source": [
    "### Some best practices"
   ]
  },
  {
   "cell_type": "markdown",
   "metadata": {},
   "source": [
    "1. Initialize attributes in \\_\\_init\\_\\_ method\n",
    "2. Start class names with capital letters and avoid using python reserved words as class names\n",
    "3. Keep using self\n",
    "4. Add doctrings to classes when necessary"
   ]
  },
  {
   "cell_type": "code",
   "execution_count": null,
   "metadata": {},
   "outputs": [],
   "source": []
  }
 ],
 "metadata": {
  "kernelspec": {
   "display_name": "Python 3 (ipykernel)",
   "language": "python",
   "name": "python3"
  },
  "language_info": {
   "codemirror_mode": {
    "name": "ipython",
    "version": 3
   },
   "file_extension": ".py",
   "mimetype": "text/x-python",
   "name": "python",
   "nbconvert_exporter": "python",
   "pygments_lexer": "ipython3",
   "version": "3.11.5"
  }
 },
 "nbformat": 4,
 "nbformat_minor": 4
}
